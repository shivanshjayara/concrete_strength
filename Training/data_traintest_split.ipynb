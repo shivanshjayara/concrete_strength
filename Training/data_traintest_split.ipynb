{
 "cells": [
  {
   "cell_type": "code",
   "execution_count": 1,
   "id": "integral-permit",
   "metadata": {},
   "outputs": [],
   "source": [
    "from Training_preprocessing_module.preprocessing_training import preprocessing_training_class\n",
    "import os\n",
    "import pandas as pd\n",
    "import numpy as np\n",
    "from sklearn.model_selection import train_test_split\n",
    "from Training_log_module.training_log import train_logging\n",
    "from sklearn.preprocessing import StandardScaler\n",
    "import pickle\n",
    "\n",
    "class data_splitting:\n",
    "    def __init__(self):\n",
    "        self.pre_obj = preprocessing_training_class()\n",
    "        \n",
    "\n",
    "        self.log_filename = 'training_log.txt'\n",
    "        self.log_obj = train_logging(self.log_filename)\n",
    "        \n",
    "        self.log_obj.true_log('Train_Test_Split Operation starts from here ******')\n",
    "\n",
    "    def traintest_split(self):\n",
    "        dataframe=self.pre_obj.outliers_removal()\n",
    "        \n",
    "        self.log_obj.true_log('Reading standardized data into dataframe')\n",
    "        \n",
    "        try:\n",
    "            X = dataframe.drop(columns='Concrete_compressive _strength')\n",
    "            Y = dataframe['Concrete_compressive _strength']\n",
    "            \n",
    "            self.log_obj.true_log('Separating Independent and dependent features into separate variables X and Y')\n",
    "            \n",
    "            x_train, x_test, y_train, y_test = train_test_split(X, Y, test_size = 0.25, random_state = 101)\n",
    "            \n",
    "            self.log_obj.true_log('Performing train_test_splt with 25% test_data size and 75% train_data size')\n",
    "        \n",
    "            return x_train, x_test, y_train, y_test\n",
    "        \n",
    "        except Exception as e:\n",
    "            self.log_obj.error_log(f'Unable to perform train test split due to this error: {str(e)}')\n",
    "            \n",
    "    \n",
    "    def standardization(self):\n",
    "        x_train, x_test, y_train, y_test=self.traintest_split()\n",
    "        \n",
    "        std_obj = StandardScaler()\n",
    "\n",
    "        x_std_train = std_obj.fit_transform(x_train)\n",
    "        x_std_test = std_obj.fit_transform(x_test)\n",
    "                \n",
    "        with open('standard_scaler.pkl','wb') as std_file:\n",
    "            pickle.dump(std_obj,std_file)\n",
    "        return x_std_train,x_std_test,y_train,y_test"
   ]
  },
  {
   "cell_type": "code",
   "execution_count": null,
   "id": "ceramic-mining",
   "metadata": {},
   "outputs": [],
   "source": []
  }
 ],
 "metadata": {
  "kernelspec": {
   "display_name": "Python 3",
   "language": "python",
   "name": "python3"
  },
  "language_info": {
   "codemirror_mode": {
    "name": "ipython",
    "version": 3
   },
   "file_extension": ".py",
   "mimetype": "text/x-python",
   "name": "python",
   "nbconvert_exporter": "python",
   "pygments_lexer": "ipython3",
   "version": "3.7.9"
  }
 },
 "nbformat": 4,
 "nbformat_minor": 5
}
